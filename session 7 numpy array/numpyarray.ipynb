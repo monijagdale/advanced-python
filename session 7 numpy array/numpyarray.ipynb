{
 "cells": [
  {
   "cell_type": "markdown",
   "metadata": {},
   "source": [
    "## numpy array"
   ]
  },
  {
   "cell_type": "code",
   "execution_count": 2,
   "metadata": {},
   "outputs": [],
   "source": [
    "import numpy as np"
   ]
  },
  {
   "cell_type": "code",
   "execution_count": 3,
   "metadata": {},
   "outputs": [],
   "source": [
    "ar1 = np.array([23,45,67,89])"
   ]
  },
  {
   "cell_type": "code",
   "execution_count": 4,
   "metadata": {},
   "outputs": [
    {
     "data": {
      "text/plain": [
       "array([23, 45, 67, 89])"
      ]
     },
     "execution_count": 4,
     "metadata": {},
     "output_type": "execute_result"
    }
   ],
   "source": [
    "ar1"
   ]
  },
  {
   "cell_type": "code",
   "execution_count": 5,
   "metadata": {},
   "outputs": [
    {
     "data": {
      "text/plain": [
       "array([45, 67])"
      ]
     },
     "execution_count": 5,
     "metadata": {},
     "output_type": "execute_result"
    }
   ],
   "source": [
    "ar1[1:3]"
   ]
  },
  {
   "cell_type": "code",
   "execution_count": 6,
   "metadata": {},
   "outputs": [
    {
     "data": {
      "text/plain": [
       "1"
      ]
     },
     "execution_count": 6,
     "metadata": {},
     "output_type": "execute_result"
    }
   ],
   "source": [
    "np.ndim(ar1)"
   ]
  },
  {
   "cell_type": "code",
   "execution_count": 7,
   "metadata": {},
   "outputs": [
    {
     "data": {
      "text/plain": [
       "numpy.ndarray"
      ]
     },
     "execution_count": 7,
     "metadata": {},
     "output_type": "execute_result"
    }
   ],
   "source": [
    "type(ar1)"
   ]
  },
  {
   "cell_type": "code",
   "execution_count": 8,
   "metadata": {},
   "outputs": [],
   "source": [
    "ar2 = np.array([[1,2,3],\n",
    "                 [4,5,6]])\n",
    "               "
   ]
  },
  {
   "cell_type": "code",
   "execution_count": 9,
   "metadata": {},
   "outputs": [
    {
     "data": {
      "text/plain": [
       "array([[1, 2, 3],\n",
       "       [4, 5, 6]])"
      ]
     },
     "execution_count": 9,
     "metadata": {},
     "output_type": "execute_result"
    }
   ],
   "source": [
    "ar2"
   ]
  },
  {
   "cell_type": "code",
   "execution_count": 10,
   "metadata": {},
   "outputs": [
    {
     "data": {
      "text/plain": [
       "2"
      ]
     },
     "execution_count": 10,
     "metadata": {},
     "output_type": "execute_result"
    }
   ],
   "source": [
    "np.ndim(ar2)"
   ]
  },
  {
   "cell_type": "code",
   "execution_count": 11,
   "metadata": {},
   "outputs": [],
   "source": [
    "ar3 = np.array([[[1,2,3],\n",
    "                 [3,4,5]],\n",
    "\n",
    "                [[5,6,7],\n",
    "                 [ 8,9,10]]])"
   ]
  },
  {
   "cell_type": "code",
   "execution_count": 12,
   "metadata": {},
   "outputs": [
    {
     "data": {
      "text/plain": [
       "3"
      ]
     },
     "execution_count": 12,
     "metadata": {},
     "output_type": "execute_result"
    }
   ],
   "source": [
    "np.ndim(ar3)"
   ]
  },
  {
   "cell_type": "code",
   "execution_count": 13,
   "metadata": {},
   "outputs": [
    {
     "data": {
      "text/plain": [
       "(2, 2, 3)"
      ]
     },
     "execution_count": 13,
     "metadata": {},
     "output_type": "execute_result"
    }
   ],
   "source": [
    "np.shape(ar3)"
   ]
  },
  {
   "cell_type": "code",
   "execution_count": 14,
   "metadata": {},
   "outputs": [
    {
     "data": {
      "text/plain": [
       "array([[ 1,  2,  3,  3],\n",
       "       [ 4,  5,  5,  6],\n",
       "       [ 7,  8,  9, 10]])"
      ]
     },
     "execution_count": 14,
     "metadata": {},
     "output_type": "execute_result"
    }
   ],
   "source": [
    "ar3.reshape(3,4)"
   ]
  },
  {
   "cell_type": "markdown",
   "metadata": {},
   "source": [
    "#### list vs arrays multiply by 3"
   ]
  },
  {
   "cell_type": "code",
   "execution_count": 15,
   "metadata": {},
   "outputs": [],
   "source": [
    "a = [3,4,5,6]"
   ]
  },
  {
   "cell_type": "code",
   "execution_count": 16,
   "metadata": {},
   "outputs": [
    {
     "data": {
      "text/plain": [
       "[3, 4, 5, 6, 3, 4, 5, 6, 3, 4, 5, 6]"
      ]
     },
     "execution_count": 16,
     "metadata": {},
     "output_type": "execute_result"
    }
   ],
   "source": [
    "a*3"
   ]
  },
  {
   "cell_type": "code",
   "execution_count": 17,
   "metadata": {},
   "outputs": [],
   "source": [
    "b = []\n",
    "for i in a:\n",
    "    b.append(3*i)"
   ]
  },
  {
   "cell_type": "code",
   "execution_count": 18,
   "metadata": {},
   "outputs": [
    {
     "data": {
      "text/plain": [
       "[3, 4, 5, 6]"
      ]
     },
     "execution_count": 18,
     "metadata": {},
     "output_type": "execute_result"
    }
   ],
   "source": [
    "a"
   ]
  },
  {
   "cell_type": "code",
   "execution_count": 19,
   "metadata": {},
   "outputs": [
    {
     "data": {
      "text/plain": [
       "[9, 12, 15, 18]"
      ]
     },
     "execution_count": 19,
     "metadata": {},
     "output_type": "execute_result"
    }
   ],
   "source": [
    "b"
   ]
  },
  {
   "cell_type": "code",
   "execution_count": 20,
   "metadata": {},
   "outputs": [],
   "source": [
    "c = np.array([3,4,5,6])"
   ]
  },
  {
   "cell_type": "code",
   "execution_count": 21,
   "metadata": {},
   "outputs": [
    {
     "data": {
      "text/plain": [
       "array([3, 4, 5, 6])"
      ]
     },
     "execution_count": 21,
     "metadata": {},
     "output_type": "execute_result"
    }
   ],
   "source": [
    "c"
   ]
  },
  {
   "cell_type": "code",
   "execution_count": 22,
   "metadata": {},
   "outputs": [
    {
     "data": {
      "text/plain": [
       "numpy.ndarray"
      ]
     },
     "execution_count": 22,
     "metadata": {},
     "output_type": "execute_result"
    }
   ],
   "source": [
    "type(c)"
   ]
  },
  {
   "cell_type": "code",
   "execution_count": 23,
   "metadata": {},
   "outputs": [],
   "source": [
    "d = 3*c"
   ]
  },
  {
   "cell_type": "code",
   "execution_count": 24,
   "metadata": {},
   "outputs": [
    {
     "data": {
      "text/plain": [
       "array([ 9, 12, 15, 18])"
      ]
     },
     "execution_count": 24,
     "metadata": {},
     "output_type": "execute_result"
    }
   ],
   "source": [
    "d"
   ]
  },
  {
   "cell_type": "markdown",
   "metadata": {},
   "source": [
    "taking product of my list vs array"
   ]
  },
  {
   "cell_type": "code",
   "execution_count": 25,
   "metadata": {},
   "outputs": [],
   "source": [
    "e = [4,5,6,7]"
   ]
  },
  {
   "cell_type": "code",
   "execution_count": 26,
   "metadata": {},
   "outputs": [
    {
     "data": {
      "text/plain": [
       "[4, 5, 6, 7]"
      ]
     },
     "execution_count": 26,
     "metadata": {},
     "output_type": "execute_result"
    }
   ],
   "source": [
    "e"
   ]
  },
  {
   "cell_type": "code",
   "execution_count": 27,
   "metadata": {},
   "outputs": [
    {
     "name": "stdout",
     "output_type": "stream",
     "text": [
      "products of element inside list : [4, 5, 6, 7] is 840\n"
     ]
    }
   ],
   "source": [
    "p = 1\n",
    "for i in e:\n",
    "    p = p*i\n",
    "print(f'products of element inside list : {e} is {p}')"
   ]
  },
  {
   "cell_type": "code",
   "execution_count": 28,
   "metadata": {},
   "outputs": [],
   "source": [
    "g = np.array([4,5,6,7])"
   ]
  },
  {
   "cell_type": "code",
   "execution_count": 29,
   "metadata": {},
   "outputs": [
    {
     "data": {
      "text/plain": [
       "840"
      ]
     },
     "execution_count": 29,
     "metadata": {},
     "output_type": "execute_result"
    }
   ],
   "source": [
    "np.prod(g)"
   ]
  },
  {
   "cell_type": "code",
   "execution_count": 30,
   "metadata": {},
   "outputs": [
    {
     "data": {
      "text/plain": [
       "22"
      ]
     },
     "execution_count": 30,
     "metadata": {},
     "output_type": "execute_result"
    }
   ],
   "source": [
    "np.sum(g)"
   ]
  },
  {
   "cell_type": "code",
   "execution_count": 31,
   "metadata": {},
   "outputs": [
    {
     "data": {
      "text/plain": [
       "1.118033988749895"
      ]
     },
     "execution_count": 31,
     "metadata": {},
     "output_type": "execute_result"
    }
   ],
   "source": [
    "np.std(g)"
   ]
  },
  {
   "cell_type": "code",
   "execution_count": 32,
   "metadata": {},
   "outputs": [
    {
     "data": {
      "text/plain": [
       "7"
      ]
     },
     "execution_count": 32,
     "metadata": {},
     "output_type": "execute_result"
    }
   ],
   "source": [
    "np.max(g)"
   ]
  },
  {
   "cell_type": "markdown",
   "metadata": {},
   "source": [
    "### generating data though numpy\n",
    "   1. range(start,stop,step)     \n",
    "   2.range can not use float"
   ]
  },
  {
   "cell_type": "code",
   "execution_count": 33,
   "metadata": {},
   "outputs": [
    {
     "data": {
      "text/plain": [
       "range(3, 25, 2)"
      ]
     },
     "execution_count": 33,
     "metadata": {},
     "output_type": "execute_result"
    }
   ],
   "source": [
    "range(3,25,2)"
   ]
  },
  {
   "cell_type": "code",
   "execution_count": 34,
   "metadata": {},
   "outputs": [
    {
     "data": {
      "text/plain": [
       "[3, 5, 7, 9, 11, 13, 15, 17, 19, 21, 23]"
      ]
     },
     "execution_count": 34,
     "metadata": {},
     "output_type": "execute_result"
    }
   ],
   "source": [
    "list(range(3,25,2))"
   ]
  },
  {
   "cell_type": "markdown",
   "metadata": {},
   "source": [
    "#### np.arange\n",
    " float can be work in numpy\n"
   ]
  },
  {
   "cell_type": "code",
   "execution_count": 35,
   "metadata": {},
   "outputs": [
    {
     "data": {
      "text/plain": [
       "array([ 0.4,  0.7,  1. ,  1.3,  1.6,  1.9,  2.2,  2.5,  2.8,  3.1,  3.4,\n",
       "        3.7,  4. ,  4.3,  4.6,  4.9,  5.2,  5.5,  5.8,  6.1,  6.4,  6.7,\n",
       "        7. ,  7.3,  7.6,  7.9,  8.2,  8.5,  8.8,  9.1,  9.4,  9.7, 10. ,\n",
       "       10.3])"
      ]
     },
     "execution_count": 35,
     "metadata": {},
     "output_type": "execute_result"
    }
   ],
   "source": [
    "B = np.arange(0.4,10.4,0.3)\n",
    "B"
   ]
  },
  {
   "cell_type": "markdown",
   "metadata": {},
   "source": [
    "##### numpy linspace"
   ]
  },
  {
   "cell_type": "code",
   "execution_count": 36,
   "metadata": {},
   "outputs": [
    {
     "data": {
      "text/plain": [
       "array([ 2.,  4.,  6.,  8., 10.])"
      ]
     },
     "execution_count": 36,
     "metadata": {},
     "output_type": "execute_result"
    }
   ],
   "source": [
    "c = np.linspace(2,10,5)\n",
    "c"
   ]
  },
  {
   "cell_type": "code",
   "execution_count": 37,
   "metadata": {},
   "outputs": [
    {
     "data": {
      "text/plain": [
       "array([ 0.3 ,  1.52,  2.74,  3.96,  5.18,  6.4 ,  7.62,  8.84, 10.06,\n",
       "       11.28, 12.5 ])"
      ]
     },
     "execution_count": 37,
     "metadata": {},
     "output_type": "execute_result"
    }
   ],
   "source": [
    "d = np.linspace(0.3, 12.5, 11)\n",
    "d"
   ]
  },
  {
   "cell_type": "markdown",
   "metadata": {},
   "source": [
    "### generating random numbers in python\n",
    "\n",
    "1. generating numbers between 0 and 1 randomly"
   ]
  },
  {
   "cell_type": "code",
   "execution_count": 40,
   "metadata": {},
   "outputs": [
    {
     "data": {
      "text/plain": [
       "array([0.28681182, 0.97816038, 0.04314854, 0.04746335, 0.09058372,\n",
       "       0.01195791, 0.97261851, 0.94689833, 0.76405427, 0.4275872 ,\n",
       "       0.05774801, 0.31489109, 0.5574694 , 0.98037152, 0.77225863,\n",
       "       0.71986619, 0.3494835 , 0.41483147, 0.2825691 , 0.61403585,\n",
       "       0.5691399 , 0.2905171 , 0.57810618, 0.32902793, 0.60285401])"
      ]
     },
     "execution_count": 40,
     "metadata": {},
     "output_type": "execute_result"
    }
   ],
   "source": [
    "n = np.random.random(25)\n",
    "n"
   ]
  },
  {
   "cell_type": "code",
   "execution_count": 42,
   "metadata": {},
   "outputs": [
    {
     "data": {
      "text/plain": [
       "array([0.04872488, 0.28910966, 0.72096635, 0.02161625, 0.20592277,\n",
       "       0.05077326, 0.30227189, 0.66391029, 0.30811439, 0.58359128,\n",
       "       0.06957095, 0.86740448, 0.13324052, 0.17812466, 0.49592955,\n",
       "       0.86369964, 0.75894384, 0.97048513, 0.75930255, 0.38425003,\n",
       "       0.40871833, 0.71336043, 0.27066977, 0.85410287, 0.91316397])"
      ]
     },
     "execution_count": 42,
     "metadata": {},
     "output_type": "execute_result"
    }
   ],
   "source": [
    "np.random.seed(21)\n",
    "h = np.random.random(25)\n",
    "h"
   ]
  },
  {
   "cell_type": "markdown",
   "metadata": {},
   "source": [
    "2.genrate random for thrown dice    \n",
    "   np.random.randint(low,high,size)"
   ]
  },
  {
   "cell_type": "code",
   "execution_count": 44,
   "metadata": {},
   "outputs": [
    {
     "data": {
      "text/plain": [
       "array([3, 2, 5, 5, 1, 3, 2, 1, 1, 2, 2, 5, 3, 1, 6, 6, 1, 4, 6, 1, 1, 6,\n",
       "       4, 5, 3, 6, 4, 6, 5, 5, 4, 3, 3, 3, 1, 2, 3, 3, 4, 3, 5, 6, 5, 2,\n",
       "       6, 3, 3, 2, 5, 4, 6, 4, 4, 4, 3, 4, 1, 3, 6, 5, 4, 2, 3, 6, 1, 6,\n",
       "       6, 3, 3, 1, 4, 4, 5, 2, 4, 3, 6, 3, 3, 1, 6, 4, 2, 6, 2, 3, 5, 1,\n",
       "       2, 2, 6, 6, 3, 2, 4, 6, 4, 4, 5, 6])"
      ]
     },
     "execution_count": 44,
     "metadata": {},
     "output_type": "execute_result"
    }
   ],
   "source": [
    "dice = np.random.randint(1,7,100)\n",
    "dice"
   ]
  },
  {
   "cell_type": "markdown",
   "metadata": {},
   "source": [
    "generating normal distribution   \n",
    "1. np.random.normal(mean,std_dev,size)"
   ]
  },
  {
   "cell_type": "code",
   "execution_count": 46,
   "metadata": {},
   "outputs": [
    {
     "data": {
      "text/plain": [
       "array([5.33860595, 5.90779884, 5.22807272, 4.81193757, 5.31240588,\n",
       "       5.33625336, 5.20787906, 5.99733458, 4.94321128, 5.85250118,\n",
       "       5.2609862 , 5.23471521, 5.09547557, 5.43081057, 5.74040731,\n",
       "       5.44886979, 5.39315658, 5.66652136, 5.42393483, 5.72766199,\n",
       "       5.7516396 , 5.39460537, 6.21866367, 5.88887009, 5.31670387,\n",
       "       5.35297539, 5.72162437, 5.70908647, 5.41154351, 5.79480382,\n",
       "       5.69357262, 5.48431098, 5.36074876, 5.36410325, 5.62655252,\n",
       "       5.47489081, 5.23329803, 4.88947175, 5.58110489, 6.07347468,\n",
       "       5.28396894, 4.9335913 , 5.79519952, 5.46533552, 5.72219738,\n",
       "       5.79873961, 5.03398569, 5.27100309, 5.64184963, 5.27439152,\n",
       "       5.15656899, 5.12883678, 5.3539403 , 5.33081805, 5.3373583 ,\n",
       "       4.89504636, 5.40735419, 5.92020981, 5.65793373, 6.14321093,\n",
       "       5.69225688, 5.56701788, 5.47808413, 5.74194661, 5.75968601,\n",
       "       5.87797831, 5.26540306, 5.50680858, 5.58626935, 5.67258206,\n",
       "       5.32226814, 5.64258478, 5.26841598, 5.12765863, 5.86210768,\n",
       "       5.61447585, 5.89863745, 4.91856757, 5.90564433, 5.61971647,\n",
       "       5.39664058, 5.85228256, 5.47183604, 5.64730543, 5.23278229,\n",
       "       5.70451285, 6.12943427, 5.11006796, 5.70873647, 5.21380698,\n",
       "       5.22204446, 5.79064513, 5.62337649, 6.00844692, 5.64044084,\n",
       "       6.07428513, 5.34676543, 5.71315354, 5.37806163, 5.40913937,\n",
       "       5.63724785, 5.61136822, 5.61106865, 5.83496078, 5.52976972,\n",
       "       5.49170745, 5.34837247, 6.07908824, 5.81725896, 5.64021865,\n",
       "       5.767552  , 5.61768895, 5.3788691 , 5.33303236, 5.04993604,\n",
       "       5.6790608 , 5.60042297, 5.38460704, 4.90409582, 5.87014652,\n",
       "       5.64826434, 5.8224244 , 5.74030156, 5.68692034, 5.35553752,\n",
       "       5.86879782, 4.93320304, 5.26342339, 5.94711102, 5.29023406,\n",
       "       5.40322695, 5.08461236, 5.31596827, 5.50227749, 5.28035379,\n",
       "       5.50377029, 5.50224089, 5.32333471, 5.5867992 , 5.64280401,\n",
       "       5.87289142, 5.38246454, 5.30506196, 5.31481015, 5.75210503,\n",
       "       5.66293306, 5.90803388, 5.54196168, 5.95179891, 5.57168264,\n",
       "       5.38389196, 5.393322  , 5.4618721 , 4.78192231, 5.61143499,\n",
       "       5.48628964, 5.71714467, 5.51545662, 5.60563282, 5.142625  ,\n",
       "       5.93117929, 5.26617432, 5.43783423, 5.24677633, 5.85041522,\n",
       "       5.35687256, 5.72498774, 5.48552602, 5.13377754, 5.55011006,\n",
       "       5.91711541, 5.36506637, 5.46347229, 5.1169481 , 5.52525177,\n",
       "       5.4423327 , 5.83337122, 5.51809417, 5.4038384 , 5.18983743,\n",
       "       6.05366743, 5.83380022, 5.87196241, 5.34559995, 5.34268363,\n",
       "       6.09400719, 5.80710523, 4.81195996, 5.37665744, 5.4816798 ,\n",
       "       5.7268778 , 5.50643901, 5.21020338, 5.48511523, 5.32426806,\n",
       "       5.29683392, 5.8582398 , 5.52358336, 5.92645083, 5.80339473,\n",
       "       5.56223591, 5.34192417, 5.98041821, 5.17530905, 5.48575525,\n",
       "       5.44665778, 5.67549248, 5.30448411, 5.14314073, 5.64631667,\n",
       "       5.19620744, 5.57791014, 5.29518653, 4.90486621, 4.64706184,\n",
       "       5.24339524, 5.68774234, 5.75521874, 5.62362576, 4.84929039,\n",
       "       5.58497495, 5.88398375, 5.29968753, 5.67852011, 5.47884287,\n",
       "       5.10865882, 5.56002924, 5.76997067, 5.41438942, 5.29675361,\n",
       "       5.58738519, 5.65577149, 5.68561792, 5.674983  , 5.83826435,\n",
       "       5.58857079, 5.74869427, 5.50429772, 4.96536874, 5.95966826,\n",
       "       5.50810432, 5.42971604, 5.49701594, 5.08569684, 5.00673524,\n",
       "       5.48084578, 5.25396916, 5.18558496, 6.00620213, 5.33998486,\n",
       "       5.3528543 , 5.92343962, 5.48195744, 6.22509481, 5.52943726,\n",
       "       5.48156219, 5.36513676, 5.5089455 , 5.85506138, 5.48136464,\n",
       "       5.48357087, 5.3484662 , 5.16506046, 5.33097642, 5.35715969,\n",
       "       5.68617724, 5.58131042, 5.58287402, 5.24398244, 5.11677283,\n",
       "       5.44752473, 5.73892396, 5.33687294, 5.63381956, 5.42092393,\n",
       "       5.20178858, 6.01126804, 5.52336161, 5.94400005, 5.81643405,\n",
       "       5.25392308, 5.6946534 , 5.53540291, 5.72680806, 5.41332148,\n",
       "       5.63363451, 5.28817084, 5.37007691, 5.83162594, 5.71575419,\n",
       "       5.80696132, 5.27367108, 5.82738746, 5.70725905, 5.47600451,\n",
       "       5.13781039, 5.80126414, 5.6768222 , 5.27428829, 5.27510719,\n",
       "       5.10519003, 6.03931368, 5.59316518, 5.40791459, 5.22035495,\n",
       "       5.95594828, 5.82425774, 4.81504126, 6.0842393 , 5.63841998,\n",
       "       5.5673811 , 5.10794538, 5.75209453, 5.64990569, 5.67515502,\n",
       "       5.14942356, 5.28775139, 5.56133766, 6.00414661, 5.51459715,\n",
       "       5.44221423, 5.62228428, 5.78019264, 5.04165948, 5.34330144,\n",
       "       4.99851555, 5.82969956, 5.55681293, 5.2381907 , 5.32278545,\n",
       "       5.37127241, 5.34765926, 5.10348214, 5.16738097, 5.54797815,\n",
       "       5.42280287, 4.68169963, 5.58107401, 5.2508734 , 5.33596834,\n",
       "       5.59941445, 5.30654472, 5.32265445, 5.19528856, 5.62633738,\n",
       "       5.6788033 , 5.24848842, 5.23747553, 5.04174627, 5.49914557,\n",
       "       5.52606964, 5.80087038, 5.53567469, 5.28917449, 4.75682199,\n",
       "       5.26887322, 5.36390813, 5.2306035 , 5.5425357 , 6.13486135,\n",
       "       5.5364919 , 5.62164304, 6.03505561, 5.16057908, 5.3165996 ,\n",
       "       5.27387755, 5.38276372, 5.32222757, 5.81185938, 5.69302355,\n",
       "       5.1652808 , 5.30852884, 5.42728995, 5.63732058, 5.79838186,\n",
       "       5.43783622, 5.51658277, 5.23344349, 5.50769349, 5.29777147,\n",
       "       5.28293186, 5.7255334 , 5.10539553, 5.88533904, 6.03952988,\n",
       "       5.64865947, 5.51983674, 5.91736075, 5.12057527, 5.89565555,\n",
       "       5.52678236, 5.62559308, 5.36654041, 5.2638815 , 5.87130495,\n",
       "       5.77694575, 4.91971261, 5.878292  , 5.18389669, 5.42728608,\n",
       "       5.42193374, 5.76145584, 4.89129556, 5.18972513, 5.38879359,\n",
       "       5.76416725, 5.03222211, 5.33331485, 4.8267509 , 5.08799237,\n",
       "       5.79838113, 5.85063268, 5.83759781, 5.73192279, 6.20631438,\n",
       "       5.80924261, 5.62048708, 5.1665173 , 5.41898508, 5.51744572,\n",
       "       5.58819072, 6.06793465, 5.34890997, 5.40419498, 5.33149663,\n",
       "       5.89628882, 5.4522355 , 5.06723624, 5.7614487 , 5.84868067,\n",
       "       5.63597052, 4.61878138, 5.41550635, 5.64892492, 5.95398677,\n",
       "       5.6966519 , 5.16300439, 4.8944064 , 5.56198675, 5.27115702,\n",
       "       5.29518575, 5.63426185, 5.66773645, 5.39828666, 5.82306029,\n",
       "       5.00356882, 5.73119577, 5.21527694, 5.35539546, 5.68666598,\n",
       "       6.01213969, 5.52813849, 5.42595374, 6.21677359, 5.4308861 ,\n",
       "       5.58864643, 5.33052069, 5.37778418, 5.15303674, 4.85908146,\n",
       "       5.521028  , 4.56710853, 5.58274642, 5.27631608, 5.21464269,\n",
       "       5.5478918 , 5.55418226, 5.42137016, 5.45243166, 5.92712525,\n",
       "       5.78866097, 6.02227538, 5.12955594, 5.64963842, 5.04034569,\n",
       "       4.92051469, 5.51989562, 5.37424604, 5.59228396, 5.70376289,\n",
       "       6.16622293, 5.49740249, 5.31413774, 5.69063573, 5.7892843 ,\n",
       "       5.77197552, 5.55012016, 5.98069882, 5.90625009, 5.82275686,\n",
       "       5.66058039, 5.09390147, 5.59095714, 5.0217744 , 5.79716994,\n",
       "       5.87281051, 5.2923021 , 5.23696481, 5.3514887 , 5.26200543])"
      ]
     },
     "execution_count": 46,
     "metadata": {},
     "output_type": "execute_result"
    }
   ],
   "source": [
    "height = np.random.normal(5.5, 0.3, 500)\n",
    "height"
   ]
  },
  {
   "cell_type": "code",
   "execution_count": 50,
   "metadata": {},
   "outputs": [],
   "source": [
    "from warnings import filterwarnings\n",
    "filterwarnings('ignore')"
   ]
  },
  {
   "cell_type": "code",
   "execution_count": 49,
   "metadata": {},
   "outputs": [
    {
     "data": {
      "text/plain": [
       "<Axes: ylabel='Count'>"
      ]
     },
     "execution_count": 49,
     "metadata": {},
     "output_type": "execute_result"
    },
    {
     "data": {
      "image/png": "[encoded data removed]",
      "text/plain": [
       "<Figure size 640x480 with 1 Axes>"
      ]
     },
     "metadata": {},
     "output_type": "display_data"
    }
   ],
   "source": [
    "import seaborn as sns\n",
    "sns.histplot(data = height, kde = True, color = \"red\")"
   ]
  },
  {
   "cell_type": "code",
   "execution_count": 51,
   "metadata": {},
   "outputs": [
    {
     "data": {
      "text/plain": [
       "array([2.31054235, 2.4305964 , 2.28649792, 2.1936129 , 2.3048657 ,\n",
       "       2.31003319, 2.28207779, 2.44894561, 2.22333337, 2.41919432,\n",
       "       2.29368398, 2.28795   , 2.25731601, 2.33040996, 2.39591471,\n",
       "       2.33428143, 2.32231707, 2.38044562, 2.32893427, 2.39325343,\n",
       "       2.39825762, 2.32262898, 2.49372486, 2.42669942, 2.30579788,\n",
       "       2.3136498 , 2.39199172, 2.38936947, 2.32627245, 2.40723988,\n",
       "       2.38612083, 2.34186058, 2.31532908, 2.31605338, 2.37203552,\n",
       "       2.33984846, 2.28764028, 2.21121499, 2.36243622, 2.46444206,\n",
       "       2.29868853, 2.2211689 , 2.40732206, 2.33780571, 2.39211149,\n",
       "       2.40805723, 2.24365454, 2.29586652, 2.3752578 , 2.29660434,\n",
       "       2.270808  , 2.26469353, 2.31385831, 2.30885644, 2.31027234,\n",
       "       2.21247517, 2.32537184, 2.43314813, 2.37864115, 2.47855017,\n",
       "       2.38584511, 2.35945288, 2.34053074, 2.39623593, 2.39993458,\n",
       "       2.42445423, 2.29464661, 2.34665903, 2.363529  , 2.3817183 ,\n",
       "       2.30700415, 2.37541255, 2.29530303, 2.2644334 , 2.42117899,\n",
       "       2.36948852, 2.42871107, 2.21778438, 2.43015315, 2.37059412,\n",
       "       2.32306706, 2.41914914, 2.3391956 , 2.37640599, 2.28752755,\n",
       "       2.3884122 , 2.47576943, 2.26054594, 2.38929623, 2.28337622,\n",
       "       2.28517931, 2.40637593, 2.37136595, 2.45121336, 2.37496123,\n",
       "       2.46460649, 2.31230738, 2.3902204 , 2.31906482, 2.32575566,\n",
       "       2.37428891, 2.36883267, 2.36876944, 2.41556635, 2.35154624,\n",
       "       2.34343924, 2.31265485, 2.46558071, 2.41189945, 2.37491445,\n",
       "       2.40157282, 2.37016644, 2.31923891, 2.30933591, 2.24720627,\n",
       "       2.38307801, 2.36652128, 2.32047561, 2.21451932, 2.42283853,\n",
       "       2.37660774, 2.41297004, 2.39589264, 2.38472647, 2.31420343,\n",
       "       2.42256018, 2.2210815 , 2.2942152 , 2.43866993, 2.30005088,\n",
       "       2.32448423, 2.2549085 , 2.30563836, 2.34569339, 2.29790204,\n",
       "       2.34601157, 2.34568559, 2.3072353 , 2.36364109, 2.37545869,\n",
       "       2.42340492, 2.32001391, 2.30327201, 2.3053872 , 2.39835465,\n",
       "       2.3796918 , 2.43064475, 2.35413714, 2.4396309 , 2.3604412 ,\n",
       "       2.32032152, 2.32235269, 2.33706485, 2.18676069, 2.36884676,\n",
       "       2.342283  , 2.39105514, 2.34850093, 2.36762177, 2.26773565,\n",
       "       2.43540126, 2.29481466, 2.33191643, 2.29058428, 2.41876316,\n",
       "       2.31449186, 2.39269466, 2.34211998, 2.26578409, 2.35586716,\n",
       "       2.43251216, 2.31626129, 2.33740717, 2.26206722, 2.35058541,\n",
       "       2.33288077, 2.4152373 , 2.3490624 , 2.32461575, 2.27812147,\n",
       "       2.46042017, 2.41532611, 2.42321324, 2.31205535, 2.31142459,\n",
       "       2.4686043 , 2.40979361, 2.19361801, 2.31876205, 2.34129874,\n",
       "       2.39308959, 2.34658028, 2.28258699, 2.34203229, 2.30743755,\n",
       "       2.30148515, 2.42038009, 2.35023049, 2.43443029, 2.4090236 ,\n",
       "       2.3584393 , 2.3112603 , 2.44548936, 2.27493056, 2.34216892,\n",
       "       2.33380757, 2.38232921, 2.30314657, 2.26784936, 2.37619794,\n",
       "       2.27951913, 2.36175997, 2.30112723, 2.21469326, 2.15570449,\n",
       "       2.28984612, 2.38489881, 2.3990037 , 2.37141851, 2.20211044,\n",
       "       2.36325516, 2.42569243, 2.30210502, 2.38296456, 2.34069282,\n",
       "       2.26023424, 2.35797143, 2.40207632, 2.32688406, 2.30146771,\n",
       "       2.36376504, 2.3781866 , 2.38445338, 2.38222228, 2.41625006,\n",
       "       2.36401582, 2.39764348, 2.34612398, 2.22831074, 2.44124318,\n",
       "       2.34693509, 2.33017511, 2.34457159, 2.25514896, 2.23757352,\n",
       "       2.34112062, 2.29215383, 2.27718795, 2.45075542, 2.31084072,\n",
       "       2.31362363, 2.43381175, 2.34135803, 2.49501399, 2.35147555,\n",
       "       2.34127363, 2.31627649, 2.34711429, 2.41972341, 2.34123144,\n",
       "       2.34170256, 2.31267512, 2.27267694, 2.30889073, 2.31455389,\n",
       "       2.38457066, 2.36247972, 2.36281062, 2.28997433, 2.26202848,\n",
       "       2.3339933 , 2.39560513, 2.3101673 , 2.37356684, 2.32828777,\n",
       "       2.28074299, 2.45178874, 2.35018331, 2.438032  , 2.41172844,\n",
       "       2.29214377, 2.38634729, 2.3527437 , 2.39307502, 2.32665457,\n",
       "       2.37352786, 2.29960232, 2.31734264, 2.41487597, 2.39076435,\n",
       "       2.40976375, 2.29644749, 2.41399823, 2.38898703, 2.34008643,\n",
       "       2.26667386, 2.40858135, 2.38260828, 2.29658187, 2.29676015,\n",
       "       2.25946676, 2.45750151, 2.36498735, 2.32549233, 2.28480961,\n",
       "       2.44048116, 2.4133499 , 2.19432023, 2.46662508, 2.37453574,\n",
       "       2.35952985, 2.26007641, 2.39835246, 2.37695303, 2.38225839,\n",
       "       2.26923413, 2.29951112, 2.35824886, 2.45033602, 2.34831794,\n",
       "       2.33285538, 2.37113565, 2.40420312, 2.245364  , 2.31155823,\n",
       "       2.23573602, 2.41447708, 2.35728932, 2.2887094 , 2.30711626,\n",
       "       2.31760057, 2.31250065, 2.25908879, 2.2731874 , 2.35541464,\n",
       "       2.32869124, 2.16372356, 2.36242968, 2.29147843, 2.3099715 ,\n",
       "       2.36630819, 2.30359387, 2.30708787, 2.27931756, 2.37199017,\n",
       "       2.38302398, 2.29095797, 2.28855315, 2.24538332, 2.34502571,\n",
       "       2.35075938, 2.40849961, 2.35280146, 2.29982053, 2.18101398,\n",
       "       2.29540263, 2.31601125, 2.28705127, 2.35425905, 2.47686523,\n",
       "       2.35297512, 2.37100043, 2.45663502, 2.2716908 , 2.30577527,\n",
       "       2.29649244, 2.32007839, 2.30699536, 2.41077983, 2.38600577,\n",
       "       2.27272541, 2.30402449, 2.32965447, 2.37430423, 2.40798294,\n",
       "       2.33191686, 2.34874068, 2.28767207, 2.34684757, 2.30168883,\n",
       "       2.29846294, 2.39280868, 2.25951223, 2.42597177, 2.4575455 ,\n",
       "       2.37669087, 2.34943328, 2.43256259, 2.26286881, 2.42809711,\n",
       "       2.35091096, 2.37183327, 2.31657946, 2.29431504, 2.42307758,\n",
       "       2.40352777, 2.21804252, 2.42451892, 2.27681723, 2.32965364,\n",
       "       2.32850461, 2.40030328, 2.21162736, 2.27809682, 2.32137752,\n",
       "       2.40086802, 2.24326149, 2.30939708, 2.19698678, 2.25565786,\n",
       "       2.40798279, 2.41880811, 2.41611213, 2.39414344, 2.49124755,\n",
       "       2.41023704, 2.37075665, 2.27299743, 2.32787136, 2.34892438,\n",
       "       2.36393543, 2.46331781, 2.31277106, 2.32469245, 2.30900338,\n",
       "       2.42822751, 2.33500225, 2.25105225, 2.40030179, 2.41840457,\n",
       "       2.37401991, 2.14913503, 2.32712405, 2.37674671, 2.44007925,\n",
       "       2.38676599, 2.27222455, 2.21233053, 2.35838647, 2.29590005,\n",
       "       2.30112706, 2.37366001, 2.38070083, 2.32342133, 2.4131018 ,\n",
       "       2.23686585, 2.3939916 , 2.28369808, 2.31417274, 2.38467314,\n",
       "       2.45196649, 2.35119937, 2.32936767, 2.49334586, 2.33042616,\n",
       "       2.36403182, 2.30879204, 2.319005  , 2.27003012, 2.20433243,\n",
       "       2.34968679, 2.13707944, 2.36278362, 2.29702331, 2.28355922,\n",
       "       2.35539631, 2.35673127, 2.32838359, 2.33504425, 2.4345688 ,\n",
       "       2.40596363, 2.45403247, 2.2648523 , 2.3768968 , 2.24507142,\n",
       "       2.21822332, 2.34944581, 2.31824202, 2.36480104, 2.3882552 ,\n",
       "       2.48318806, 2.34465402, 2.30524136, 2.38550534, 2.40609316,\n",
       "       2.4024936 , 2.3558693 , 2.44554673, 2.43027778, 2.41303893,\n",
       "       2.37919743, 2.25696732, 2.36452049, 2.24093159, 2.40773128,\n",
       "       2.42338823, 2.3005004 , 2.28844157, 2.31332849, 2.29390615])"
      ]
     },
     "execution_count": 51,
     "metadata": {},
     "output_type": "execute_result"
    }
   ],
   "source": [
    "np.sqrt(height)"
   ]
  },
  {
   "cell_type": "code",
   "execution_count": 52,
   "metadata": {},
   "outputs": [
    {
     "data": {
      "text/plain": [
       "5.4991255435697965"
      ]
     },
     "execution_count": 52,
     "metadata": {},
     "output_type": "execute_result"
    }
   ],
   "source": [
    "np.mean(height)"
   ]
  },
  {
   "cell_type": "code",
   "execution_count": 53,
   "metadata": {},
   "outputs": [
    {
     "data": {
      "text/plain": [
       "0.301405884168172"
      ]
     },
     "execution_count": 53,
     "metadata": {},
     "output_type": "execute_result"
    }
   ],
   "source": [
    "np.std(height)"
   ]
  },
  {
   "cell_type": "code",
   "execution_count": 54,
   "metadata": {},
   "outputs": [
    {
     "data": {
      "text/plain": [
       "array([4, 5, 6, 7, 8, 9])"
      ]
     },
     "execution_count": 54,
     "metadata": {},
     "output_type": "execute_result"
    }
   ],
   "source": [
    "e = np.array([4,5,6,7,8,9])\n",
    "e"
   ]
  },
  {
   "cell_type": "code",
   "execution_count": 55,
   "metadata": {},
   "outputs": [
    {
     "data": {
      "text/plain": [
       "array([-0.7568025 , -0.95892427, -0.2794155 ,  0.6569866 ,  0.98935825,\n",
       "        0.41211849])"
      ]
     },
     "execution_count": 55,
     "metadata": {},
     "output_type": "execute_result"
    }
   ],
   "source": [
    "np.sin(e)"
   ]
  },
  {
   "cell_type": "code",
   "execution_count": 56,
   "metadata": {},
   "outputs": [
    {
     "data": {
      "text/plain": [
       "array([2.        , 2.23606798, 2.44948974, 2.64575131, 2.82842712,\n",
       "       3.        ])"
      ]
     },
     "execution_count": 56,
     "metadata": {},
     "output_type": "execute_result"
    }
   ],
   "source": [
    "np.sqrt(e)"
   ]
  },
  {
   "cell_type": "code",
   "execution_count": 62,
   "metadata": {},
   "outputs": [
    {
     "data": {
      "text/plain": [
       "array([  54.59815003,  148.4131591 ,  403.42879349, 1096.63315843,\n",
       "       2980.95798704, 8103.08392758])"
      ]
     },
     "execution_count": 62,
     "metadata": {},
     "output_type": "execute_result"
    }
   ],
   "source": [
    "np.exp(e)"
   ]
  },
  {
   "cell_type": "code",
   "execution_count": 57,
   "metadata": {},
   "outputs": [
    {
     "data": {
      "text/plain": [
       "0.7853981633974483"
      ]
     },
     "execution_count": 57,
     "metadata": {},
     "output_type": "execute_result"
    }
   ],
   "source": [
    "from math import pi\n",
    "d_deg = 45\n",
    "d_rad = d_deg*(pi/180)\n",
    "d_rad"
   ]
  },
  {
   "cell_type": "code",
   "execution_count": 63,
   "metadata": {},
   "outputs": [
    {
     "data": {
      "text/plain": [
       "array([0.60205999, 0.69897   , 0.77815125, 0.84509804, 0.90308999,\n",
       "       0.95424251])"
      ]
     },
     "execution_count": 63,
     "metadata": {},
     "output_type": "execute_result"
    }
   ],
   "source": [
    "np.log10(e)"
   ]
  },
  {
   "cell_type": "code",
   "execution_count": 58,
   "metadata": {},
   "outputs": [
    {
     "data": {
      "text/plain": [
       "0.7071067811865476"
      ]
     },
     "execution_count": 58,
     "metadata": {},
     "output_type": "execute_result"
    }
   ],
   "source": [
    "np.cos(d_rad)"
   ]
  },
  {
   "cell_type": "code",
   "execution_count": 59,
   "metadata": {},
   "outputs": [
    {
     "data": {
      "text/plain": [
       "0.7071067811865476"
      ]
     },
     "execution_count": 59,
     "metadata": {},
     "output_type": "execute_result"
    }
   ],
   "source": [
    "np.sin(d_rad)"
   ]
  },
  {
   "cell_type": "code",
   "execution_count": 60,
   "metadata": {},
   "outputs": [
    {
     "data": {
      "text/plain": [
       "0.9999999999999999"
      ]
     },
     "execution_count": 60,
     "metadata": {},
     "output_type": "execute_result"
    }
   ],
   "source": [
    "np.tan(d_rad)"
   ]
  },
  {
   "cell_type": "code",
   "execution_count": 61,
   "metadata": {},
   "outputs": [
    {
     "data": {
      "text/plain": [
       "-0.2415644752704905"
      ]
     },
     "execution_count": 61,
     "metadata": {},
     "output_type": "execute_result"
    }
   ],
   "source": [
    "np.log(d_rad)"
   ]
  },
  {
   "cell_type": "markdown",
   "metadata": {},
   "source": [
    "plot the curve x*sin(x) + x^2"
   ]
  },
  {
   "cell_type": "code",
   "execution_count": 69,
   "metadata": {},
   "outputs": [
    {
     "data": {
      "text/plain": [
       "array([-12.56637061, -12.46637061, -12.36637061, -12.26637061,\n",
       "       -12.16637061, -12.06637061, -11.96637061, -11.86637061,\n",
       "       -11.76637061, -11.66637061, -11.56637061, -11.46637061,\n",
       "       -11.36637061, -11.26637061, -11.16637061, -11.06637061,\n",
       "       -10.96637061, -10.86637061, -10.76637061, -10.66637061,\n",
       "       -10.56637061, -10.46637061, -10.36637061, -10.26637061,\n",
       "       -10.16637061, -10.06637061,  -9.96637061,  -9.86637061,\n",
       "        -9.76637061,  -9.66637061,  -9.56637061,  -9.46637061,\n",
       "        -9.36637061,  -9.26637061,  -9.16637061,  -9.06637061,\n",
       "        -8.96637061,  -8.86637061,  -8.76637061,  -8.66637061,\n",
       "        -8.56637061,  -8.46637061,  -8.36637061,  -8.26637061,\n",
       "        -8.16637061,  -8.06637061,  -7.96637061,  -7.86637061,\n",
       "        -7.76637061,  -7.66637061,  -7.56637061,  -7.46637061,\n",
       "        -7.36637061,  -7.26637061,  -7.16637061,  -7.06637061,\n",
       "        -6.96637061,  -6.86637061,  -6.76637061,  -6.66637061,\n",
       "        -6.56637061,  -6.46637061,  -6.36637061,  -6.26637061,\n",
       "        -6.16637061,  -6.06637061,  -5.96637061,  -5.86637061,\n",
       "        -5.76637061,  -5.66637061,  -5.56637061,  -5.46637061,\n",
       "        -5.36637061,  -5.26637061,  -5.16637061,  -5.06637061,\n",
       "        -4.96637061,  -4.86637061,  -4.76637061,  -4.66637061,\n",
       "        -4.56637061,  -4.46637061,  -4.36637061,  -4.26637061,\n",
       "        -4.16637061,  -4.06637061,  -3.96637061,  -3.86637061,\n",
       "        -3.76637061,  -3.66637061,  -3.56637061,  -3.46637061,\n",
       "        -3.36637061,  -3.26637061,  -3.16637061,  -3.06637061,\n",
       "        -2.96637061,  -2.86637061,  -2.76637061,  -2.66637061,\n",
       "        -2.56637061,  -2.46637061,  -2.36637061,  -2.26637061,\n",
       "        -2.16637061,  -2.06637061,  -1.96637061,  -1.86637061,\n",
       "        -1.76637061,  -1.66637061,  -1.56637061,  -1.46637061,\n",
       "        -1.36637061,  -1.26637061,  -1.16637061,  -1.06637061,\n",
       "        -0.96637061,  -0.86637061,  -0.76637061,  -0.66637061,\n",
       "        -0.56637061,  -0.46637061,  -0.36637061,  -0.26637061,\n",
       "        -0.16637061,  -0.06637061,   0.03362939,   0.13362939,\n",
       "         0.23362939,   0.33362939,   0.43362939,   0.53362939,\n",
       "         0.63362939,   0.73362939,   0.83362939,   0.93362939,\n",
       "         1.03362939,   1.13362939,   1.23362939,   1.33362939,\n",
       "         1.43362939,   1.53362939,   1.63362939,   1.73362939,\n",
       "         1.83362939,   1.93362939,   2.03362939,   2.13362939,\n",
       "         2.23362939,   2.33362939,   2.43362939,   2.53362939,\n",
       "         2.63362939,   2.73362939,   2.83362939,   2.93362939,\n",
       "         3.03362939,   3.13362939,   3.23362939,   3.33362939,\n",
       "         3.43362939,   3.53362939,   3.63362939,   3.73362939,\n",
       "         3.83362939,   3.93362939,   4.03362939,   4.13362939,\n",
       "         4.23362939,   4.33362939,   4.43362939,   4.53362939,\n",
       "         4.63362939,   4.73362939,   4.83362939,   4.93362939,\n",
       "         5.03362939,   5.13362939,   5.23362939,   5.33362939,\n",
       "         5.43362939,   5.53362939,   5.63362939,   5.73362939,\n",
       "         5.83362939,   5.93362939,   6.03362939,   6.13362939,\n",
       "         6.23362939,   6.33362939,   6.43362939,   6.53362939,\n",
       "         6.63362939,   6.73362939,   6.83362939,   6.93362939,\n",
       "         7.03362939,   7.13362939,   7.23362939,   7.33362939,\n",
       "         7.43362939,   7.53362939,   7.63362939,   7.73362939,\n",
       "         7.83362939,   7.93362939,   8.03362939,   8.13362939,\n",
       "         8.23362939,   8.33362939,   8.43362939,   8.53362939,\n",
       "         8.63362939,   8.73362939,   8.83362939,   8.93362939,\n",
       "         9.03362939,   9.13362939,   9.23362939,   9.33362939,\n",
       "         9.43362939,   9.53362939,   9.63362939,   9.73362939,\n",
       "         9.83362939,   9.93362939,  10.03362939,  10.13362939,\n",
       "        10.23362939,  10.33362939,  10.43362939,  10.53362939,\n",
       "        10.63362939,  10.73362939,  10.83362939,  10.93362939,\n",
       "        11.03362939,  11.13362939,  11.23362939,  11.33362939,\n",
       "        11.43362939,  11.53362939,  11.63362939,  11.73362939,\n",
       "        11.83362939,  11.93362939,  12.03362939,  12.13362939,\n",
       "        12.23362939,  12.33362939,  12.43362939,  12.53362939])"
      ]
     },
     "execution_count": 69,
     "metadata": {},
     "output_type": "execute_result"
    }
   ],
   "source": [
    "x = np.arange(-4*pi, 4*pi, 0.1)\n",
    "x"
   ]
  },
  {
   "cell_type": "code",
   "execution_count": 71,
   "metadata": {},
   "outputs": [
    {
     "data": {
      "text/plain": [
       "array([1.57913670e+02, 1.54165836e+02, 1.50470304e+02, 1.46838888e+02,\n",
       "       1.43282766e+02, 1.39812374e+02, 1.36437305e+02, 1.33166226e+02,\n",
       "       1.30006800e+02, 1.26965621e+02, 1.24048164e+02, 1.21258741e+02,\n",
       "       1.18600479e+02, 1.16075303e+02, 1.13683936e+02, 1.11425909e+02,\n",
       "       1.09299590e+02, 1.07302213e+02, 1.05429932e+02, 1.03677875e+02,\n",
       "       1.02040214e+02, 1.00510245e+02, 9.90804664e+01, 9.77426795e+01,\n",
       "       9.64880824e+01, 9.53073749e+01, 9.41908655e+01, 9.31285808e+01,\n",
       "       9.21103766e+01, 9.11260482e+01, 9.01654404e+01, 8.92185546e+01,\n",
       "       8.82756523e+01, 8.73273544e+01, 8.63647347e+01, 8.53794069e+01,\n",
       "       8.43636043e+01, 8.33102515e+01, 8.22130268e+01, 8.10664161e+01,\n",
       "       7.98657562e+01, 7.86072687e+01, 7.72880832e+01, 7.59062503e+01,\n",
       "       7.44607442e+01, 7.29514551e+01, 7.13791716e+01, 6.97455536e+01,\n",
       "       6.80530961e+01, 6.63050842e+01, 6.45055407e+01, 6.26591657e+01,\n",
       "       6.07712704e+01, 5.88477056e+01, 5.68947845e+01, 5.49192031e+01,\n",
       "       5.29279569e+01, 5.09282564e+01, 4.89274418e+01, 4.69328976e+01,\n",
       "       4.49519688e+01, 4.29918792e+01, 4.10596527e+01, 3.91620385e+01,\n",
       "       3.73054410e+01, 3.54958549e+01, 3.37388071e+01, 3.20393045e+01,\n",
       "       3.04017894e+01, 2.88301019e+01, 2.73274509e+01, 2.58963928e+01,\n",
       "       2.45388177e+01, 2.32559450e+01, 2.20483262e+01, 2.09158557e+01,\n",
       "       1.98577893e+01, 1.88727701e+01, 1.79588612e+01, 1.71135842e+01,\n",
       "       1.63339642e+01, 1.56165791e+01, 1.49576141e+01, 1.43529188e+01,\n",
       "       1.37980683e+01, 1.32884254e+01, 1.28192048e+01, 1.23855370e+01,\n",
       "       1.19825327e+01, 1.16053453e+01, 1.12492321e+01, 1.09096120e+01,\n",
       "       1.05821211e+01, 1.02626627e+01, 9.94745469e+00, 9.63306993e+00,\n",
       "       9.31647246e+00, 8.99504717e+00, 8.66662347e+00, 8.32949252e+00,\n",
       "       7.98241792e+00, 7.62463989e+00, 7.25587278e+00, 6.87629632e+00,\n",
       "       6.48654058e+00, 6.08766498e+00, 5.68113187e+00, 5.26877475e+00,\n",
       "       4.85276208e+00, 4.43555675e+00, 4.01987218e+00, 3.60862547e+00,\n",
       "       3.20488833e+00, 2.81183648e+00, 2.43269819e+00, 2.07070276e+00,\n",
       "       1.72902954e+00, 1.41075823e+00, 1.11882116e+00, 8.55958203e-01,\n",
       "       6.24674806e-01, 4.27203914e-01, 2.65472109e-01, 1.41070518e-01,\n",
       "       5.52308497e-02, 8.80688352e-03, 2.26165800e-03, 3.56605285e-02,\n",
       "       1.08670188e-01, 2.20563663e-01, 3.70231218e-01, 5.56197026e-01,\n",
       "       7.76641376e-01, 1.02942813e+00, 1.31213705e+00, 1.62210059e+00,\n",
       "       1.95644461e+00, 2.31213250e+00, 2.68601217e+00, 3.07486511e+00,\n",
       "       3.47545703e+00, 3.88458934e+00, 4.29915064e+00, 4.71616772e+00,\n",
       "       5.13285520e+00, 5.54666315e+00, 5.95532210e+00, 6.35688465e+00,\n",
       "       6.74976321e+00, 7.13276327e+00, 7.50511158e+00, 7.86647904e+00,\n",
       "       8.21699762e+00, 8.55727131e+00, 8.88838058e+00, 9.21188044e+00,\n",
       "       9.52979190e+00, 9.84458679e+00, 1.01591663e+01, 1.04768331e+01,\n",
       "       1.08012575e+01, 1.11364378e+01, 1.14866561e+01, 1.18564280e+01,\n",
       "       1.22504497e+01, 1.26735404e+01, 1.31305822e+01, 1.36264580e+01,\n",
       "       1.41659879e+01, 1.47538645e+01, 1.53945894e+01, 1.60924094e+01,\n",
       "       1.68512558e+01, 1.76746855e+01, 1.85658255e+01, 1.95273218e+01,\n",
       "       2.05612932e+01, 2.16692906e+01, 2.28522617e+01, 2.41105238e+01,\n",
       "       2.54437419e+01, 2.68509163e+01, 2.83303761e+01, 2.98797821e+01,\n",
       "       3.14961370e+01, 3.31758046e+01, 3.49145360e+01, 3.67075046e+01,\n",
       "       3.85493485e+01, 4.04342198e+01, 4.23558415e+01, 4.43075698e+01,\n",
       "       4.62824628e+01, 4.82733537e+01, 5.02729282e+01, 5.22738055e+01,\n",
       "       5.42686217e+01, 5.62501144e+01, 5.82112083e+01, 6.01451002e+01,\n",
       "       6.20453425e+01, 6.39059243e+01, 6.57213498e+01, 6.74867109e+01,\n",
       "       6.91977564e+01, 7.08509534e+01, 7.24435428e+01, 7.39735870e+01,\n",
       "       7.54400086e+01, 7.68426208e+01, 7.81821482e+01, 7.94602376e+01,\n",
       "       8.06794588e+01, 8.18432950e+01, 8.29561228e+01, 8.40231821e+01,\n",
       "       8.50505355e+01, 8.60450183e+01, 8.70141782e+01, 8.79662070e+01,\n",
       "       8.89098634e+01, 8.98543882e+01, 9.08094129e+01, 9.17848622e+01,\n",
       "       9.27908516e+01, 9.38375817e+01, 9.49352286e+01, 9.60938338e+01,\n",
       "       9.73231932e+01, 9.86327471e+01, 1.00031472e+02, 1.01527776e+02,\n",
       "       1.03129398e+02, 1.04843314e+02, 1.06675648e+02, 1.08631593e+02,\n",
       "       1.10715336e+02, 1.12930005e+02, 1.15277606e+02, 1.17758992e+02,\n",
       "       1.20373834e+02, 1.23120598e+02, 1.25996553e+02, 1.28997771e+02,\n",
       "       1.32119154e+02, 1.35354469e+02, 1.38696397e+02, 1.42136592e+02,\n",
       "       1.45665755e+02, 1.49273715e+02, 1.52949527e+02, 1.56681572e+02])"
      ]
     },
     "execution_count": 71,
     "metadata": {},
     "output_type": "execute_result"
    }
   ],
   "source": [
    "y = x*np.sin(x) + x**2\n",
    "y"
   ]
  },
  {
   "cell_type": "code",
   "execution_count": 72,
   "metadata": {},
   "outputs": [
    {
     "data": {
      "image/png": "[encoded data removed]",
      "text/plain": [
       "<Figure size 640x480 with 1 Axes>"
      ]
     },
     "metadata": {},
     "output_type": "display_data"
    }
   ],
   "source": [
    "import matplotlib.pyplot as plt\n",
    "plt.plot(x,y)\n",
    "plt.title('plpt for y = x*np.sin(x) + x**2')\n",
    "plt.show()"
   ]
  },
  {
   "cell_type": "code",
   "execution_count": null,
   "metadata": {},
   "outputs": [],
   "source": []
  }
 ],
 "metadata": {
  "kernelspec": {
   "display_name": ".venv",
   "language": "python",
   "name": "python3"
  },
  "language_info": {
   "codemirror_mode": {
    "name": "ipython",
    "version": 3
   },
   "file_extension": ".py",
   "mimetype": "text/x-python",
   "name": "python",
   "nbconvert_exporter": "python",
   "pygments_lexer": "ipython3",
   "version": "3.11.6"
  }
 },
 "nbformat": 4,
 "nbformat_minor": 2
}
